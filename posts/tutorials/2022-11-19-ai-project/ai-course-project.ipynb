{
  "cells": [
    {
      "cell_type": "raw",
      "metadata": {},
      "source": [
        "---\n",
        "title: \"Visualize Your Model with Grad-cam and Super-Resolution\"\n",
        "date: \"2022-10-31\"\n",
        "categories: [cv]\n",
        "---"
      ],
      "id": "387342fb"
    },
    {
      "cell_type": "markdown",
      "metadata": {},
      "source": [
        "In this project, I visualize an Image-Classification model with GradCAM, and make it clear through Super-Resolution.\n",
        "\n",
        "<hr style=\"height:1px; visibility:hidden;\" />\n",
        "<hr style=\"height:1px;border-width:0;color:rgb(50,50,50);background-color:rgb(50,50,50)\">\n",
        "\n",
        "# Fork an image classification SOTA model from github\n",
        "Firstly, I find model PES from github:\n",
        "[Understanding and Improving Early Stopping for Learning with Noisy Labels (NeurIPS 2021)](https://github.com/tmllab/PES)\n",
        "\n",
        "Then, to make sure its correctness, I check the model following the README in its repo and rerun the training procedure with much smaller epoches (check this hyperparameter in the code, like the argparse part in config.py or train.py etc.).\n",
        "\n",
        "Now I need to get my Grad-cam code and plug it into PES.\n",
        "\n",
        "# Learn the GradCAM package\n",
        "I use this package:\n",
        "[pytorch-grad-cam](https://github.com/jacobgil/pytorch-grad-cam)\n",
        "\n",
        "Then I check how to GradCAM an image with my model.\n",
        "\n",
        "The procedure is:\n",
        "\n",
        "1. Init model\n",
        "`model = resnet50(pretrained=True)`\n",
        "\n",
        "2. Set target layers (Check which layers to use from its repo)\n",
        "\n",
        "PES uses Resnet18 as its backbone.\n",
        "I check the model structure by:\n",
        "`print(model)`\n",
        "\n",
        "Then I target at the last layer of my model, which is layer4[-1]:\n",
        "\n",
        "`target_layers = [model.layer4[-1]]`\n",
        "\n",
        "3. Create CAM object\n",
        "\n",
        "`cam = GradCAM(model=model, target_layers=target_layers, use_cuda=args.use_cuda)`\n",
        "\n",
        "4. Set target class to GradCAM\n",
        "\n",
        "Set the 281-th class to visualize:\n",
        "\n",
        "`targets = [ClassifierOutputTarget(281)]`\n",
        "\n",
        "Set the class that has highest score to visualize:\n",
        "\n",
        "`targets = None`\n",
        "\n",
        "5. Get your GradCAM\n",
        "\n",
        "`grayscale_cam = cam(input_tensor=input_tensor, targets=targets)`\n",
        "\n",
        "6. Load the image to visualize\n"
      ],
      "id": "c9d6368f"
    },
    {
      "cell_type": "code",
      "metadata": {},
      "source": [
        "rgb_img = Image.open(f\"{path}\") # your image path\n",
        "images = transform_test(rgb_img).unsqueeze(0) # how you transform your image during training, see PES repo\n",
        "images = images.cuda()"
      ],
      "id": "95ced92c",
      "execution_count": null,
      "outputs": []
    },
    {
      "cell_type": "markdown",
      "metadata": {},
      "source": [
        "7. GradCAM on 1 image:\n"
      ],
      "id": "f9c7fcbb"
    },
    {
      "cell_type": "code",
      "metadata": {},
      "source": [
        "grayscale_cam = grayscale_cam[0, :] \n",
        "visualization = show_cam_on_image(rgb_img, grayscale_cam, use_rgb=True)"
      ],
      "id": "d748c5be",
      "execution_count": null,
      "outputs": []
    },
    {
      "cell_type": "markdown",
      "metadata": {},
      "source": [
        "8. Visualization:\n"
      ],
      "id": "14d13958"
    },
    {
      "cell_type": "code",
      "metadata": {},
      "source": [
        "input_images = asarray(rgb_img)\n",
        "input_images = np.float32(input_images) / 255\n",
        "visualization = show_cam_on_image(input_images, grayscale_cam, use_rgb=True)"
      ],
      "id": "e7bb2ab8",
      "execution_count": null,
      "outputs": []
    },
    {
      "cell_type": "markdown",
      "metadata": {},
      "source": [
        "# Make Grad-cam more clear with Super-Resolution\n",
        "The main thing to do is to find a SOTA Super-Resolution method that assist fast inference or evaluation on my image.\n",
        "\n",
        "That's why I use this model and its pretrained weights from github:\n",
        "\n",
        "[From Face to Natural Image: Learning Real Degradation for Blind Image Super-Resolution (ECCV 2022)](https://github.com/csxmli2016/ReDegNet)\n",
        "\n",
        "All I need to do is to change the path to the inference image with my image, and rerun the inference code.\n",
        "\n",
        "Then the blurring image becomes clear.\n",
        "\n",
        "# Deploy the whole procedure with Flask\n",
        "\n",
        "I check out this repo and figure out how to write flask code.\n",
        "\n",
        "[React/Flask Starter App on Heroku](https://github.com/evmaki/ee461-react-flask-heroku)\n",
        "\n",
        "Here is a sample code to create a flask app on Server: `123.45.67.8:5005`:\n"
      ],
      "id": "69883a57"
    },
    {
      "cell_type": "code",
      "metadata": {},
      "source": [
        "from flask import Flask, request, send_file\n",
        "app = Flask(__name__)  # 固定写法\n",
        "app.config[\"UPLOAD_FOLDER\"] = \"xxx\" #设置环境变量\n",
        "@app.route(\"/predict\", methods=[\"GET\", \"POST\"])\n",
        "def predict():\n",
        "    if request.method == \"POST\":  # 接收传输的图片\n",
        "        image_file = request.files[\"file\"]\n",
        "        file_path = os.path.join(app.config[\"UPLOAD_FOLDER\"], image_file.filename)\n",
        "        image_file.save(file_path)\n",
        "    else:\n",
        "        file_path = request.args.get(\"path\")  # 接收其他客户端浏览器发送的请求\n",
        "    return gradcam(file_path)\n",
        "\n",
        "\n",
        "if __name__ == \"__main__\":\n",
        "    # app.run() # 原工程的写法，默认只能本机访问\n",
        "    app.run(host=\"0.0.0.0\", port=5005)  # 使其他主机可以访问服务"
      ],
      "id": "3635d264",
      "execution_count": null,
      "outputs": []
    },
    {
      "cell_type": "markdown",
      "metadata": {},
      "source": [
        "Then run `python xxx.py` to create flask app on server.\n",
        "\n",
        "Now, you can call gradcam() on another machine through command line:\n",
        "\n",
        "1. 从外部主机发送图片到服务器，并接收返回结果\n",
        "\n",
        "Here, -F is to send the original file and --output is to get the processed file sent back from server.\n",
        "\n",
        "\n",
        "```{bash}\n",
        "curl -X POST -F 'file=@imagepath' --output 'test.jpg' http://123.45.67.8:5005/predict\n",
        "```\n",
        "\n",
        "\n",
        "2. 从浏览器发出请求，图片在服务端本地\n",
        "\n",
        "Note that `predict` corresponds to `@app.route(\"/predict\", methods=[\"GET\", \"POST\"])`.\n",
        "\n",
        "\n",
        "```{bash}\n",
        "http://123.45.67.8:5005/predict?path=imagepath\n",
        "```\n",
        "\n",
        "\n",
        "# Linux Tricks\n",
        "In this section, I will introduce some linux tricks in my project.\n",
        "\n",
        "### 1. How to copy a file to a remote server in Python?"
      ],
      "id": "c1702f0c"
    },
    {
      "cell_type": "code",
      "metadata": {},
      "source": [
        "import subprocess\n",
        "p = subprocess.Popen([\"scp\", \"my_file.txt\", \"username@server:path\"])\n",
        "sts = os.waitpid(p.pid, 0)"
      ],
      "id": "701def10",
      "execution_count": null,
      "outputs": []
    },
    {
      "cell_type": "markdown",
      "metadata": {},
      "source": [
        "### 2. How to Run SCP Without Password Prompt Interruption in Linux?\n",
        "Try this if you wanna improve the speed of transferring the files.\n",
        "\n",
        "```{bash}\n",
        "ssh-keygen -t rsa -b 4096 -C \"root@localhost\"\n",
        "```\n",
        "\n",
        "\n",
        "Then, it says `Enter file in which to save the key (/root/.ssh/id_rsa):`. Copy the saving path here(.ssh/) and check if the key `id_rsa.pub` is there.\n",
        "\n",
        "```{bash}\n",
        "ls -l .ssh/\n",
        "```\n",
        "\n",
        "\n",
        "Finally, do this, remember to replace .ssh with your saving path.\n",
        "\n",
        "```{bash}\n",
        "cat .ssh/id_rsa.pub | ssh root@server2 'cat >> .ssh/authorized_keys'\n",
        "```\n",
        "\n",
        "\n",
        "### 3. How to run linux command in python?\n",
        "I need to move and save my file in python. Here's how I do it:"
      ],
      "id": "c0536e04"
    },
    {
      "cell_type": "code",
      "metadata": {},
      "source": [
        "import os\n",
        "os.system(\"touch a.txt\") # single command\n",
        "os.system(\"touch a.txt && touch b.txt\") # multiple command"
      ],
      "id": "9c4ec024",
      "execution_count": null,
      "outputs": []
    },
    {
      "cell_type": "markdown",
      "metadata": {},
      "source": [
        "Otherwise, save the commands to a .sh file and run it."
      ],
      "id": "c7e2875f"
    },
    {
      "cell_type": "code",
      "metadata": {},
      "source": [
        "import os\n",
        "os.system(\"save.sh\")"
      ],
      "id": "c8eb4c3a",
      "execution_count": null,
      "outputs": []
    },
    {
      "cell_type": "markdown",
      "metadata": {},
      "source": [
        "### 4. How to copy a file or directory in linux?\n",
        "\n",
        "```{bash}\n",
        "cp <existing file name> <new file name>  \n",
        "cp <file1> <file2> <target_directory_name>\n",
        "cp -r <dir1> <dir2>\n",
        "```\n",
        "\n",
        "\n",
        "# Github Tricks\n",
        "### How to search efficiently?\n",
        "I often find latest updates in my field like this:\n",
        "```\n",
        "deep learning stars:>10 forks:>10 language:python created:>2022-01-01 pushed:>2022-01-01\n",
        "```\n",
        "Here, deep learning is the search tag.\n",
        "\n",
        "# References"
      ],
      "id": "695c3dba"
    }
  ],
  "metadata": {
    "kernelspec": {
      "name": "python3",
      "language": "python",
      "display_name": "Python 3 (ipykernel)"
    }
  },
  "nbformat": 4,
  "nbformat_minor": 5
}